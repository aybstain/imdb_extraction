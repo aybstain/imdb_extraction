{
 "cells": [
  {
   "cell_type": "code",
   "execution_count": null,
   "id": "8f54d3f6",
   "metadata": {},
   "outputs": [],
   "source": [
    "#importing packages\n",
    "import requests\n",
    "from bs4 import BeautifulSoup\n",
    "import csv \n",
    "from urllib.parse import urljoin"
   ]
  },
  {
   "cell_type": "code",
   "execution_count": null,
   "id": "d4f8cfa5",
   "metadata": {},
   "outputs": [],
   "source": [
    "#scraping 100 pages with beautiful soup and storing data in a csv file\n",
    "url = \"https://www.imdb.com/list/ls539934544/?ref_=otl_1\"\n",
    "images = []\n",
    "for i in range(100):\n",
    "    req = requests.get(url)\n",
    "    soup = BeautifulSoup(req.text, 'html.parser')\n",
    "    from urllib.parse import urljoin\n",
    "    try:\n",
    "        next_page = soup.find('a', {'class': 'flat-button lister-page-next next-page'})\n",
    "        url = urljoin(\"https://www.imdb.com\", next_page.get('href'))\n",
    "        print(url)\n",
    "    except:\n",
    "        print(\"no more pages to scrape\")\n",
    "    tbody = soup.find('div',class_=\"lister-list\")\n",
    "    table = tbody.find_all(\"div\",class_=\"lister-item mode-detail\")\n",
    "\n",
    "    with open('imdb2.csv', 'a') as output:\n",
    "        writer = csv.writer(output, lineterminator='\\n', delimiter='|')\n",
    "        writer.writerow(['name','year','genre','lenght','director','rating','description','metascore','votes','gross'])\n",
    "        for item in table:\n",
    "            try:\n",
    "                title = item.find(\"h3\",class_=\"lister-item-header\").a.text.encode('utf-8')\n",
    "            except:\n",
    "                title =  np.nan\n",
    "            try:\n",
    "                year = item.find(\"span\",class_=\"lister-item-year text-muted unbold\").text.encode('utf-8')\n",
    "            except:\n",
    "                year = np.nan\n",
    "            try:\n",
    "                genre = item.find(\"span\",class_=\"genre\").text.encode('utf-8')\n",
    "            except:\n",
    "                genre = np.nan\n",
    "            try:\n",
    "                lenght = item.find(\"span\",class_=\"runtime\").text.encode('utf-8')\n",
    "            except:\n",
    "                lenght = np.nan\n",
    "            try:\n",
    "                director = item.find_all(\"p\",class_=\"text-muted text-small\")[1].a.text.encode('utf-8')\n",
    "            except:\n",
    "                director = np.nan\n",
    "            try:\n",
    "                rating = item.find(\"span\",class_=\"ipl-rating-star__rating\").text.encode('utf-8')\n",
    "            except:\n",
    "                rating = np.nan\n",
    "            images.append(item.find(\"img\",class_=\"loadlate\").get(\"src\"))\n",
    "            try:\n",
    "                description = item.find(\"p\",class_=\"\").text.encode('utf-8')\n",
    "            except:\n",
    "                description = np.nan\n",
    "            try:\n",
    "                metascore = item.find(\"div\",class_=\"inline-block ratings-metascore\").text[1:4].encode('utf-8')\n",
    "            except:\n",
    "                metascore = np.nan\n",
    "            try:\n",
    "                votes = item.find(\"span\",{\"class\" : None , \"name\" : \"nv\"}).text.encode('utf-8')\n",
    "            \n",
    "            except:\n",
    "                votes = np.nan\n",
    "            try:\n",
    "                gross = item.find_all(\"span\",{\"class\" : None , \"name\" : \"nv\"})[1].text.encode('utf-8')\n",
    "            except:\n",
    "                gross = \"0\"\n",
    "            writer.writerow([title, year, genre, lenght, director, rating, description,metascore, votes, gross]) \n",
    "            "
   ]
  },
  {
   "cell_type": "code",
   "execution_count": null,
   "id": "8f858845",
   "metadata": {},
   "outputs": [],
   "source": [
    "#printing rows of the csv file \n",
    "with open(\"imdb2.csv\", 'r') as file:\n",
    "  csvreader = csv.reader(file)\n",
    "  for row in csvreader:\n",
    "    print(row)"
   ]
  }
 ],
 "metadata": {
  "kernelspec": {
   "display_name": "Python 3 (ipykernel)",
   "language": "python",
   "name": "python3"
  },
  "language_info": {
   "codemirror_mode": {
    "name": "ipython",
    "version": 3
   },
   "file_extension": ".py",
   "mimetype": "text/x-python",
   "name": "python",
   "nbconvert_exporter": "python",
   "pygments_lexer": "ipython3",
   "version": "3.9.7"
  }
 },
 "nbformat": 4,
 "nbformat_minor": 5
}
